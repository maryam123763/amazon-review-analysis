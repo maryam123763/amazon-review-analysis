{
 "cells": [
  {
   "cell_type": "code",
   "execution_count": 1,
   "metadata": {},
   "outputs": [
    {
     "name": "stdout",
     "output_type": "stream",
     "text": [
      "0\n",
      "1\n",
      "2\n",
      "3\n",
      "4\n",
      "5\n",
      "6\n",
      "7\n",
      "8\n",
      "9\n"
     ]
    }
   ],
   "source": [
    "for i in range (10):\n",
    "  print(i)"
   ]
  },
  {
   "cell_type": "code",
   "execution_count": 2,
   "metadata": {},
   "outputs": [
    {
     "name": "stdout",
     "output_type": "stream",
     "text": [
      "[10, 11, 12, 13, 14, 15, 16, 17, 18, 19]\n"
     ]
    }
   ],
   "source": [
    "print([i for i in range(10,20)])\n"
   ]
  },
  {
   "cell_type": "code",
   "execution_count": 3,
   "metadata": {},
   "outputs": [
    {
     "name": "stdout",
     "output_type": "stream",
     "text": [
      "[1, 27, 125, 343, 729, 1331, 2197, 3375, 4913, 6859]\n"
     ]
    }
   ],
   "source": [
    "cubes = [x ** 3 for x in range(1, 21) if x % 2 != 0]\n",
    "print(cubes)"
   ]
  },
  {
   "cell_type": "code",
   "execution_count": 4,
   "metadata": {},
   "outputs": [
    {
     "data": {
      "text/plain": [
       "[0,\n",
       " 1,\n",
       " 4,\n",
       " 27,\n",
       " 16,\n",
       " 125,\n",
       " 36,\n",
       " 343,\n",
       " 64,\n",
       " 729,\n",
       " 100,\n",
       " 1331,\n",
       " 144,\n",
       " 2197,\n",
       " 196,\n",
       " 3375,\n",
       " 256,\n",
       " 4913,\n",
       " 324,\n",
       " 6859]"
      ]
     },
     "execution_count": 4,
     "metadata": {},
     "output_type": "execute_result"
    }
   ],
   "source": [
    "squares = [x * x if x%2==0 else x*x*x for x in range(20)  ]\n",
    "squares\n"
   ]
  },
  {
   "cell_type": "code",
   "execution_count": 7,
   "metadata": {},
   "outputs": [
    {
     "name": "stdout",
     "output_type": "stream",
     "text": [
      "1\n",
      "2\n"
     ]
    }
   ],
   "source": [
    "graph ={'a': 1,'b':2}\n",
    "for i in graph.values():\n",
    "   print(i)"
   ]
  },
  {
   "cell_type": "code",
   "execution_count": null,
   "metadata": {},
   "outputs": [
    {
     "name": "stdout",
     "output_type": "stream",
     "text": [
      "8\n"
     ]
    }
   ],
   "source": [
    "#Lambda function\n",
    "add = lambda x, y: x + y\n",
    "print(add(5, 3))  \n"
   ]
  },
  {
   "cell_type": "code",
   "execution_count": 9,
   "metadata": {},
   "outputs": [
    {
     "name": "stdout",
     "output_type": "stream",
     "text": [
      "25\n"
     ]
    }
   ],
   "source": [
    "#lambda function\n",
    "square = lambda x:x*x\n",
    "print(square(5))"
   ]
  },
  {
   "cell_type": "code",
   "execution_count": null,
   "metadata": {},
   "outputs": [],
   "source": []
  },
  {
   "cell_type": "code",
   "execution_count": 14,
   "metadata": {},
   "outputs": [
    {
     "name": "stdout",
     "output_type": "stream",
     "text": [
      "[False, True, False, True, False]\n"
     ]
    }
   ],
   "source": [
    "#map filter and reduce function\n",
    "numbers = [1, 2, 3, 4, 5]\n",
    "squares = map(lambda x: x % 2 == 0, numbers)\n",
    "\n",
    "# Convert the iterator to a list\n",
    "squares_list = list(squares)\n",
    "print(squares_list)  # Output: [1, 4, 9, 16, 25]\n",
    "\n",
    "\n",
    "\n",
    "\n"
   ]
  },
  {
   "cell_type": "code",
   "execution_count": 13,
   "metadata": {},
   "outputs": [
    {
     "name": "stdout",
     "output_type": "stream",
     "text": [
      "[2, 4]\n"
     ]
    }
   ],
   "source": [
    "numbers = [1, 2, 3, 4, 5]\n",
    "even_numbers = filter(lambda x: x % 2 == 0, numbers)\n",
    "\n",
    "# Convert the iterator to a list\n",
    "even_numbers_list = list(even_numbers)\n",
    "print(even_numbers_list)  # Output: [2, 4]\n"
   ]
  },
  {
   "cell_type": "code",
   "execution_count": 21,
   "metadata": {},
   "outputs": [
    {
     "name": "stdout",
     "output_type": "stream",
     "text": [
      "Goal 'Bucharest' found!\n",
      "Path to goal: Arad → Timisoara → Lugoj → Sibiu → Fagaras → Bucharest\n"
     ]
    }
   ],
   "source": [
    "class Node:\n",
    "    def __init__(self, state=None, parent=None):\n",
    "        self.state = state\n",
    "        self.parent = parent\n",
    "\n",
    "    def expand_list(self, graph):\n",
    "        co = []\n",
    "        for i in graph[self.state]:  # Expanding neighbors\n",
    "            n = Node(i, self)\n",
    "            co.append(n)\n",
    "        return co\n",
    "\n",
    "\n",
    "def dfs(graph, goal_node_name, start_state):\n",
    "    start_node = Node(start_state)  \n",
    "    frontier = [start_node]\n",
    "    explored = set()\n",
    "\n",
    "    while frontier:\n",
    "        current_node = frontier.pop()\n",
    "        \n",
    "        if current_node.state == goal_node_name:\n",
    "            print(f\"Goal '{goal_node_name}' found!\")\n",
    "            path = []\n",
    "            while current_node:\n",
    "                path.append(current_node.state)\n",
    "                current_node = current_node.parent\n",
    "            return path[::-1]  # Reverse to get correct order\n",
    "\n",
    "        explored.add(current_node.state)\n",
    "        neighbors = current_node.expand_list(graph)\n",
    "\n",
    "        for i in neighbors:\n",
    "            if i.state not in explored:\n",
    "                frontier.append(i)\n",
    "\n",
    "    print(f\"Goal '{goal_node_name}' not found!\")\n",
    "    return None  # Return None if no path is found\n",
    "\n",
    "\n",
    "# Correct indentation for the graph\n",
    "graph = {\n",
    "    'Arad': ['Zerind', 'Timisoara'],\n",
    "    'Zerind': ['Arad', 'Oradea'],\n",
    "    'Timisoara': ['Arad', 'Lugoj'],\n",
    "    'Lugoj': ['Timisoara', 'Sibiu'],\n",
    "    'Sibiu': ['Lugoj', 'Oradea', 'Fagaras'],\n",
    "    'Oradea': ['Zerind', 'Sibiu'],\n",
    "    'Fagaras': ['Sibiu', 'Bucharest'],\n",
    "    'Bucharest': ['Fagaras', 'Giurgiu'],\n",
    "    'Giurgiu': ['Bucharest']\n",
    "}\n",
    "\n",
    "# Run DFS with correct parameters\n",
    "path = dfs(graph, 'Bucharest', 'Arad')\n",
    "\n",
    "# Print final path\n",
    "if path:\n",
    "    print(\"Path to goal:\", \" → \".join(path))\n",
    "else:\n",
    "    print(\"No path found.\")\n",
    "\n",
    "           "
   ]
  }
 ],
 "metadata": {
  "kernelspec": {
   "display_name": "Python 3",
   "language": "python",
   "name": "python3"
  },
  "language_info": {
   "codemirror_mode": {
    "name": "ipython",
    "version": 3
   },
   "file_extension": ".py",
   "mimetype": "text/x-python",
   "name": "python",
   "nbconvert_exporter": "python",
   "pygments_lexer": "ipython3",
   "version": "3.12.5"
  }
 },
 "nbformat": 4,
 "nbformat_minor": 2
}
